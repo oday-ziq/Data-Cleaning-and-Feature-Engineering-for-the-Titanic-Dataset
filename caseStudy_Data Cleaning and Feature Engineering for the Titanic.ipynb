{
  "cells": [
    {
      "cell_type": "markdown",
      "metadata": {},
      "source": [
        "Oday Ziq"
      ]
    },
    {
      "cell_type": "markdown",
      "metadata": {
        "id": "LvCVo5S06UKw"
      },
      "source": [
        "**1. Load the Titanic dataset using the code snippet provided below.**"
      ]
    },
    {
      "cell_type": "code",
      "execution_count": 1,
      "metadata": {
        "id": "g_KArkQJ4vnq"
      },
      "outputs": [],
      "source": [
        "import seaborn as sns\n",
        "import numpy as np\n",
        "# load dataset titanic\n",
        "df = sns.load_dataset('titanic')"
      ]
    },
    {
      "cell_type": "markdown",
      "metadata": {
        "id": "Uwr13-J36X9x"
      },
      "source": [
        "**2. Perform initial data exploration to understand the dataset’s structure, features,\n",
        "and any missing values. Summarize the dataset’s statistics and gain insights into\n",
        "the data.**"
      ]
    },
    {
      "cell_type": "code",
      "execution_count": null,
      "metadata": {
        "colab": {
          "base_uri": "https://localhost:8080/"
        },
        "id": "C2mWNKta6W4z",
        "outputId": "edb7bdd1-0b97-4227-a905-4c67ecae9279"
      },
      "outputs": [
        {
          "name": "stdout",
          "output_type": "stream",
          "text": [
            "   survived  pclass     sex   age  sibsp  parch     fare embarked  class  \\\n",
            "0         0       3    male  22.0      1      0   7.2500        S  Third   \n",
            "1         1       1  female  38.0      1      0  71.2833        C  First   \n",
            "2         1       3  female  26.0      0      0   7.9250        S  Third   \n",
            "3         1       1  female  35.0      1      0  53.1000        S  First   \n",
            "4         0       3    male  35.0      0      0   8.0500        S  Third   \n",
            "\n",
            "     who  adult_male deck  embark_town alive  alone  \n",
            "0    man        True  NaN  Southampton    no  False  \n",
            "1  woman       False    C    Cherbourg   yes  False  \n",
            "2  woman       False  NaN  Southampton   yes   True  \n",
            "3  woman       False    C  Southampton   yes  False  \n",
            "4    man        True  NaN  Southampton    no   True  \n",
            "<class 'pandas.core.frame.DataFrame'>\n",
            "Int64Index: 889 entries, 0 to 890\n",
            "Data columns (total 15 columns):\n",
            " #   Column       Non-Null Count  Dtype   \n",
            "---  ------       --------------  -----   \n",
            " 0   survived     889 non-null    int64   \n",
            " 1   pclass       889 non-null    int64   \n",
            " 2   sex          889 non-null    object  \n",
            " 3   age          889 non-null    float64 \n",
            " 4   sibsp        889 non-null    int64   \n",
            " 5   parch        889 non-null    int64   \n",
            " 6   fare         889 non-null    float64 \n",
            " 7   embarked     889 non-null    object  \n",
            " 8   class        889 non-null    category\n",
            " 9   who          889 non-null    object  \n",
            " 10  adult_male   889 non-null    bool    \n",
            " 11  deck         201 non-null    category\n",
            " 12  embark_town  889 non-null    object  \n",
            " 13  alive        889 non-null    object  \n",
            " 14  alone        889 non-null    bool    \n",
            "dtypes: bool(2), category(2), float64(2), int64(4), object(5)\n",
            "memory usage: 87.3+ KB\n",
            "None\n",
            "survived         0\n",
            "pclass           0\n",
            "sex              0\n",
            "age              0\n",
            "sibsp            0\n",
            "parch            0\n",
            "fare             0\n",
            "embarked         0\n",
            "class            0\n",
            "who              0\n",
            "adult_male       0\n",
            "deck           688\n",
            "embark_town      0\n",
            "alive            0\n",
            "alone            0\n",
            "dtype: int64\n",
            "         survived      pclass         age       sibsp       parch        fare\n",
            "count  889.000000  889.000000  889.000000  889.000000  889.000000  889.000000\n",
            "mean     0.382452    2.311586   29.315152    0.524184    0.382452   32.096681\n",
            "std      0.486260    0.834700   12.984932    1.103705    0.806761   49.697504\n",
            "min      0.000000    1.000000    0.420000    0.000000    0.000000    0.000000\n",
            "25%      0.000000    2.000000   22.000000    0.000000    0.000000    7.895800\n",
            "50%      0.000000    3.000000   28.000000    0.000000    0.000000   14.454200\n",
            "75%      1.000000    3.000000   35.000000    1.000000    0.000000   31.000000\n",
            "max      1.000000    3.000000   80.000000    8.000000    6.000000  512.329200\n",
            "Index(['survived', 'pclass', 'sex', 'age', 'sibsp', 'parch', 'fare',\n",
            "       'embarked', 'class', 'who', 'adult_male', 'deck', 'embark_town',\n",
            "       'alive', 'alone'],\n",
            "      dtype='object')\n",
            "         sex embarked  who  embark_town alive\n",
            "count    889      889  889          889   889\n",
            "unique     2        3    3            3     2\n",
            "top     male        S  man  Southampton    no\n",
            "freq     577      644  537          644   549\n",
            "0    549\n",
            "1    340\n",
            "Name: survived, dtype: int64\n",
            "adult_male   -0.555520\n",
            "pclass       -0.335549\n",
            "alone        -0.206207\n",
            "age          -0.069822\n",
            "sibsp        -0.034040\n",
            "parch         0.083151\n",
            "fare          0.255290\n",
            "survived      1.000000\n",
            "Name: survived, dtype: float64\n",
            "Unique values in sex: 2\n",
            "Unique values in embarked: 3\n",
            "Unique values in who: 3\n",
            "Unique values in embark_town: 3\n",
            "Unique values in alive: 2\n"
          ]
        },
        {
          "name": "stderr",
          "output_type": "stream",
          "text": [
            "<ipython-input-4-fa0b32b58430>:25: FutureWarning: The default value of numeric_only in DataFrame.corr is deprecated. In a future version, it will default to False. Select only valid columns or specify the value of numeric_only to silence this warning.\n",
            "  print(df.corr()['survived'].sort_values())\n"
          ]
        }
      ],
      "source": [
        "import pandas as pd\n",
        "\n",
        "print(df.head())\n",
        "\n",
        "print(df.info())\n",
        "\n",
        "print(df.isnull().sum())\n",
        "\n",
        "print(df.describe())\n",
        "\n",
        "print(df.columns)\n",
        "\n",
        "print(df.describe(include=['O']))\n",
        "\n",
        "print(df['survived'].value_counts())\n",
        "\n",
        "print(df.corr()['survived'].sort_values())\n",
        "\n",
        "for column in df.select_dtypes(include=['object']).columns:\n",
        "    print(f\"Unique values in {column}: {df[column].nunique()}\")\n"
      ]
    },
    {
      "cell_type": "markdown",
      "metadata": {
        "id": "7Nyw59d36f-b"
      },
      "source": [
        "**3. Address any data quality issues, such as missing values and outliers. Decide on an appropriate strategy for handling missing data, such as imputation or removal of rows/columns.**"
      ]
    },
    {
      "cell_type": "code",
      "execution_count": null,
      "metadata": {
        "colab": {
          "base_uri": "https://localhost:8080/"
        },
        "id": "7EpW7mCx6ga9",
        "outputId": "a5009880-e606-4788-f69d-862ada7713e1"
      },
      "outputs": [
        {
          "name": "stdout",
          "output_type": "stream",
          "text": [
            "<class 'pandas.core.frame.DataFrame'>\n",
            "Int64Index: 869 entries, 0 to 890\n",
            "Data columns (total 15 columns):\n",
            " #   Column       Non-Null Count  Dtype   \n",
            "---  ------       --------------  -----   \n",
            " 0   survived     869 non-null    int64   \n",
            " 1   pclass       869 non-null    int64   \n",
            " 2   sex          869 non-null    object  \n",
            " 3   age          869 non-null    float64 \n",
            " 4   sibsp        869 non-null    int64   \n",
            " 5   parch        869 non-null    int64   \n",
            " 6   fare         869 non-null    float64 \n",
            " 7   embarked     869 non-null    object  \n",
            " 8   class        869 non-null    category\n",
            " 9   who          869 non-null    object  \n",
            " 10  adult_male   869 non-null    bool    \n",
            " 11  deck         184 non-null    category\n",
            " 12  embark_town  869 non-null    object  \n",
            " 13  alive        869 non-null    object  \n",
            " 14  alone        869 non-null    bool    \n",
            "dtypes: bool(2), category(2), float64(2), int64(4), object(5)\n",
            "memory usage: 85.3+ KB\n",
            "None\n",
            "         survived      pclass         age       sibsp       parch        fare\n",
            "count  869.000000  869.000000  869.000000  869.000000  869.000000  869.000000\n",
            "mean     0.375144    2.341772   29.279827    0.518987    0.367089   26.407110\n",
            "std      0.484439    0.819895   13.005563    1.102436    0.793042   29.272414\n",
            "min      0.000000    1.000000    0.420000    0.000000    0.000000    0.000000\n",
            "25%      0.000000    2.000000   22.000000    0.000000    0.000000    7.895800\n",
            "50%      0.000000    3.000000   28.000000    0.000000    0.000000   13.858300\n",
            "75%      1.000000    3.000000   35.000000    1.000000    0.000000   30.000000\n",
            "max      1.000000    3.000000   80.000000    8.000000    6.000000  164.866700\n"
          ]
        }
      ],
      "source": [
        "from scipy import stats\n",
        "\n",
        "df['age'].fillna(df['age'].median(), inplace=True)\n",
        "df.dropna(subset=['embarked'], inplace=True)\n",
        "df['pclass'].fillna('Unknown', inplace=True)\n",
        "z_scores = np.abs(stats.zscore(df['fare']))\n",
        "outlier_indices = np.where(z_scores > 3)[0]  # 3 is a common threshold for identifying outliers\n",
        "df_cleaned = df.drop(index=df.index[outlier_indices])\n",
        "\n",
        "print(df_cleaned.info())\n",
        "print(df_cleaned.describe())"
      ]
    },
    {
      "cell_type": "markdown",
      "metadata": {
        "id": "VsVT1jVw6gz4"
      },
      "source": [
        "**4. Analyze the relevance of each feature for your machine learning task by using\n",
        "feature selection techniques.**"
      ]
    },
    {
      "cell_type": "markdown",
      "metadata": {
        "id": "7Ti2VpDWrsXQ"
      },
      "source": [
        "**1. Correlation Matrix Analysis**"
      ]
    },
    {
      "cell_type": "code",
      "execution_count": null,
      "metadata": {
        "colab": {
          "base_uri": "https://localhost:8080/",
          "height": 780
        },
        "id": "JoaBFZK76hPO",
        "outputId": "22c4e2ba-6504-4ed0-a8e2-77e45062383d"
      },
      "outputs": [
        {
          "name": "stderr",
          "output_type": "stream",
          "text": [
            "<ipython-input-6-f81275018df1>:4: FutureWarning: The default value of numeric_only in DataFrame.corr is deprecated. In a future version, it will default to False. Select only valid columns or specify the value of numeric_only to silence this warning.\n",
            "  correlation_matrix = df.corr()\n"
          ]
        },
        {
          "data": {
            "image/png": "[encoded data removed]",
            "text/plain": [
              "<Figure size 1000x800 with 2 Axes>"
            ]
          },
          "metadata": {},
          "output_type": "display_data"
        },
        {
          "name": "stdout",
          "output_type": "stream",
          "text": [
            "survived      1.000000\n",
            "fare          0.255290\n",
            "parch         0.083151\n",
            "sibsp        -0.034040\n",
            "age          -0.069822\n",
            "alone        -0.206207\n",
            "pclass       -0.335549\n",
            "adult_male   -0.555520\n",
            "Name: survived, dtype: float64\n"
          ]
        }
      ],
      "source": [
        "import matplotlib.pyplot as plt\n",
        "\n",
        "correlation_matrix = df.corr()\n",
        "plt.figure(figsize=(10, 8))\n",
        "sns.heatmap(correlation_matrix, annot=True, cmap='coolwarm')\n",
        "plt.show()\n",
        "\n",
        "print(correlation_matrix['survived'].sort_values(ascending=False))\n"
      ]
    },
    {
      "cell_type": "markdown",
      "metadata": {
        "id": "lD7N7Y-Er3Aw"
      },
      "source": [
        "**2. Feature Importance Using Random Forest Classifier**"
      ]
    },
    {
      "cell_type": "code",
      "execution_count": null,
      "metadata": {
        "colab": {
          "base_uri": "https://localhost:8080/"
        },
        "id": "aqP-KwCAr4k2",
        "outputId": "adc3e4b8-8b6d-4736-9607-9d6b4c6769bf"
      },
      "outputs": [
        {
          "name": "stdout",
          "output_type": "stream",
          "text": [
            "                         importance\n",
            "alive_yes                  0.601856\n",
            "adult_male                 0.073152\n",
            "who_man                    0.052694\n",
            "fare                       0.050820\n",
            "who_woman                  0.044108\n",
            "sex_male                   0.035302\n",
            "age                        0.030333\n",
            "class_Third                0.028008\n",
            "pclass                     0.023450\n",
            "sibsp                      0.015596\n",
            "parch                      0.010985\n",
            "embark_town_Southampton    0.005296\n",
            "class_Second               0.004768\n",
            "alone                      0.004261\n",
            "deck_E                     0.003969\n",
            "deck_D                     0.003374\n",
            "embarked_S                 0.003059\n",
            "deck_C                     0.002391\n",
            "deck_B                     0.002150\n",
            "embarked_Q                 0.001939\n",
            "embark_town_Queenstown     0.001870\n",
            "deck_F                     0.000479\n",
            "deck_G                     0.000139\n"
          ]
        }
      ],
      "source": [
        "from sklearn.ensemble import RandomForestClassifier\n",
        "from sklearn.model_selection import train_test_split\n",
        "import pandas as pd\n",
        "\n",
        "df_encoded = pd.get_dummies(df, drop_first=True)\n",
        "\n",
        "if 'survived' in df_encoded.columns:\n",
        "    X = df_encoded.drop('survived', axis=1)\n",
        "    y = df_encoded['survived']\n",
        "else:\n",
        "    X = df_encoded\n",
        "    y = df['survived']\n",
        "\n",
        "X_train, X_test, y_train, y_test = train_test_split(X, y, test_size=0.2, random_state=42)\n",
        "\n",
        "clf = RandomForestClassifier(n_estimators=100, random_state=42)\n",
        "clf.fit(X_train, y_train)\n",
        "\n",
        "feature_importances = pd.DataFrame(clf.feature_importances_,\n",
        "                                   index = X_train.columns,\n",
        "                                   columns=['importance']).sort_values('importance', ascending=False)\n",
        "print(feature_importances)\n"
      ]
    },
    {
      "cell_type": "markdown",
      "metadata": {
        "id": "2FI1ckG0sJpL"
      },
      "source": [
        "**5. If the dataset contains categorical variables, encode them into a numerical formatsuitable for machine learning models.**"
      ]
    },
    {
      "cell_type": "markdown",
      "metadata": {
        "id": "dxG641OFzFs2"
      },
      "source": [
        "***1. Label Encoding***\n"
      ]
    },
    {
      "cell_type": "code",
      "execution_count": null,
      "metadata": {
        "colab": {
          "base_uri": "https://localhost:8080/"
        },
        "id": "nE0WJn9AsP5d",
        "outputId": "e3f419f1-fb52-4852-bdd4-6de0b7a5bbb3"
      },
      "outputs": [
        {
          "name": "stdout",
          "output_type": "stream",
          "text": [
            "   survived  pclass  sex   age  sibsp  parch     fare  embarked  class  who  \\\n",
            "0         0       3    1  22.0      1      0   7.2500         2      2    1   \n",
            "1         1       1    0  38.0      1      0  71.2833         0      0    2   \n",
            "2         1       3    0  26.0      0      0   7.9250         2      2    2   \n",
            "3         1       1    0  35.0      1      0  53.1000         2      0    2   \n",
            "4         0       3    1  35.0      0      0   8.0500         2      2    1   \n",
            "\n",
            "   adult_male  deck  embark_town  alive  alone  \n",
            "0        True     7            2      0  False  \n",
            "1       False     2            0      1  False  \n",
            "2       False     7            2      1   True  \n",
            "3       False     2            2      1  False  \n",
            "4        True     7            2      0   True  \n"
          ]
        }
      ],
      "source": [
        "import pandas as pd\n",
        "from sklearn.preprocessing import LabelEncoder\n",
        "import seaborn as sns\n",
        "\n",
        "df = sns.load_dataset('titanic')\n",
        "\n",
        "label_encoder = LabelEncoder()\n",
        "\n",
        "categorical_cols = df.select_dtypes(include=['object', 'category']).columns\n",
        "\n",
        "for column in categorical_cols:\n",
        "    df[column] = label_encoder.fit_transform(df[column].astype(str))\n",
        "\n",
        "print(df.head())\n"
      ]
    },
    {
      "cell_type": "markdown",
      "metadata": {
        "id": "sw8SNvJZsiqq"
      },
      "source": [
        "**2. One-Hot Encoding**"
      ]
    },
    {
      "cell_type": "code",
      "execution_count": null,
      "metadata": {
        "colab": {
          "base_uri": "https://localhost:8080/"
        },
        "id": "He4lHzH0sjal",
        "outputId": "3e943fb3-38fe-40a5-f2b1-6e8c504e2344"
      },
      "outputs": [
        {
          "name": "stdout",
          "output_type": "stream",
          "text": [
            "   survived  pclass   age  sibsp  parch     fare  adult_male  alone  sex_male  \\\n",
            "0         0       3  22.0      1      0   7.2500        True  False         1   \n",
            "1         1       1  38.0      1      0  71.2833       False  False         0   \n",
            "2         1       3  26.0      0      0   7.9250       False   True         0   \n",
            "3         1       1  35.0      1      0  53.1000       False  False         0   \n",
            "4         0       3  35.0      0      0   8.0500        True   True         1   \n",
            "\n",
            "   embarked_Q  ...  who_woman  deck_B  deck_C  deck_D  deck_E  deck_F  deck_G  \\\n",
            "0           0  ...          0       0       0       0       0       0       0   \n",
            "1           0  ...          1       0       1       0       0       0       0   \n",
            "2           0  ...          1       0       0       0       0       0       0   \n",
            "3           0  ...          1       0       1       0       0       0       0   \n",
            "4           0  ...          0       0       0       0       0       0       0   \n",
            "\n",
            "   embark_town_Queenstown  embark_town_Southampton  alive_yes  \n",
            "0                       0                        1          0  \n",
            "1                       0                        0          1  \n",
            "2                       0                        1          1  \n",
            "3                       0                        1          1  \n",
            "4                       0                        1          0  \n",
            "\n",
            "[5 rows x 24 columns]\n"
          ]
        }
      ],
      "source": [
        "import pandas as pd\n",
        "import seaborn as sns\n",
        "\n",
        "df = sns.load_dataset('titanic')\n",
        "df_encoded = pd.get_dummies(df, drop_first=True)  \n",
        "\n",
        "print(df_encoded.head())\n"
      ]
    },
    {
      "cell_type": "markdown",
      "metadata": {
        "id": "cBQ7Jm9nsugi"
      },
      "source": [
        "**6. Split the dataset into training and testing subsets to evaluate the performance of\n",
        "your machine learning models.**"
      ]
    },
    {
      "cell_type": "code",
      "execution_count": null,
      "metadata": {
        "colab": {
          "base_uri": "https://localhost:8080/"
        },
        "id": "9f75h0hksu3o",
        "outputId": "0eccea16-841d-4330-82a8-2938181b84fa"
      },
      "outputs": [
        {
          "name": "stdout",
          "output_type": "stream",
          "text": [
            "X_train shape: (711, 23)\n",
            "X_test shape: (178, 23)\n",
            "y_train shape: (711,)\n",
            "y_test shape: (178,)\n"
          ]
        }
      ],
      "source": [
        "from sklearn.model_selection import train_test_split\n",
        "\n",
        "df['age'].fillna(df['age'].median(), inplace=True)\n",
        "df.dropna(subset=['embarked'], inplace=True)\n",
        "df = pd.get_dummies(df, columns=['sex', 'embarked', 'class', 'who', 'deck', 'embark_town', 'alive', 'alone'], drop_first=True)\n",
        "\n",
        "X = df.drop('survived', axis=1)  # Features\n",
        "y = df['survived']  # Target variable\n",
        "\n",
        "X_train, X_test, y_train, y_test = train_test_split(X, y, test_size=0.2, random_state=42)\n",
        "\n",
        "print(\"X_train shape:\", X_train.shape)\n",
        "print(\"X_test shape:\", X_test.shape)\n",
        "print(\"y_train shape:\", y_train.shape)\n",
        "print(\"y_test shape:\", y_test.shape)\n"
      ]
    },
    {
      "cell_type": "markdown",
      "metadata": {
        "id": "pcEgd-K5tP6g"
      },
      "source": [
        "**7. Scale or normalize the numerical features to ensure consistent scaling across\n",
        "variables.**"
      ]
    },
    {
      "cell_type": "code",
      "execution_count": null,
      "metadata": {
        "colab": {
          "base_uri": "https://localhost:8080/"
        },
        "id": "SrIcRAMJtRIO",
        "outputId": "ba4e3af6-ff8e-421f-e27b-253155daac4b"
      },
      "outputs": [
        {
          "name": "stdout",
          "output_type": "stream",
          "text": [
            "Standardized Training Shape: (711, 22)\n",
            "Standardized Testing Shape: (178, 22)\n",
            "Normalized Training Shape: (711, 22)\n",
            "Normalized Testing Shape: (178, 22)\n"
          ]
        }
      ],
      "source": [
        "from sklearn.model_selection import train_test_split\n",
        "from sklearn.preprocessing import StandardScaler, MinMaxScaler\n",
        "\n",
        "df['age'].fillna(df['age'].median(), inplace=True)\n",
        "df['fare'].fillna(df['fare'].median(), inplace=True)\n",
        "\n",
        "columns_to_drop = ['deck', 'embarked', 'who', 'embark_town', 'alive', 'alone', 'class', 'adult_male', 'sex']\n",
        "df = df.drop(columns=[col for col in columns_to_drop if col in df.columns])\n",
        "\n",
        "X = df.drop('survived', axis=1)\n",
        "y = df['survived']\n",
        "\n",
        "X_train, X_test, y_train, y_test = train_test_split(X, y, test_size=0.2, random_state=42)\n",
        "\n",
        "# Standardization\n",
        "scaler_standard = StandardScaler()\n",
        "X_train_standardized = scaler_standard.fit_transform(X_train)\n",
        "X_test_standardized = scaler_standard.transform(X_test)\n",
        "\n",
        "# Normalization\n",
        "scaler_minmax = MinMaxScaler()\n",
        "X_train_normalized = scaler_minmax.fit_transform(X_train)\n",
        "X_test_normalized = scaler_minmax.transform(X_test)\n",
        "\n",
        "print(\"Standardized Training Shape:\", X_train_standardized.shape)\n",
        "print(\"Standardized Testing Shape:\", X_test_standardized.shape)\n",
        "print(\"Normalized Training Shape:\", X_train_normalized.shape)\n",
        "print(\"Normalized Testing Shape:\", X_test_normalized.shape)\n"
      ]
    },
    {
      "cell_type": "markdown",
      "metadata": {
        "id": "c8Hx8etrt3rA"
      },
      "source": [
        "**8. Apply suitable dimensionality reduction techniques to reduce the size of the data\n",
        "while preserving important information.**"
      ]
    },
    {
      "cell_type": "code",
      "execution_count": null,
      "metadata": {
        "colab": {
          "base_uri": "https://localhost:8080/"
        },
        "id": "oXX4AVa7t4Wu",
        "outputId": "ba35bc5e-6a09-4b10-ab0f-53cdcd45c490"
      },
      "outputs": [
        {
          "name": "stdout",
          "output_type": "stream",
          "text": [
            "Original number of features: 22\n",
            "Reduced number of features: 14\n"
          ]
        }
      ],
      "source": [
        "from sklearn.decomposition import PCA\n",
        "\n",
        "df['age'].fillna(df['age'].median(), inplace=True)\n",
        "df['fare'].fillna(df['fare'].median(), inplace=True)\n",
        "\n",
        "columns_to_drop = ['sex', 'embarked', 'class', 'deck', 'embark_town', 'alive', 'alone', 'who']\n",
        "df.drop(columns=[col for col in columns_to_drop if col in df.columns], axis=1, inplace=True)\n",
        "\n",
        "df.dropna(inplace=True)\n",
        "\n",
        "X = df.drop('survived', axis=1)\n",
        "y = df['survived']\n",
        "\n",
        "X_train, X_test, y_train, y_test = train_test_split(X, y, test_size=0.2, random_state=42)\n",
        "\n",
        "scaler = StandardScaler()\n",
        "X_train_scaled = scaler.fit_transform(X_train)\n",
        "X_test_scaled = scaler.transform(X_test)\n",
        "\n",
        "pca = PCA(n_components=0.95)  # Preserve 95% of the variance\n",
        "X_train_pca = pca.fit_transform(X_train_scaled)\n",
        "X_test_pca = pca.transform(X_test_scaled)\n",
        "\n",
        "print(\"Original number of features:\", X_train_scaled.shape[1])\n",
        "print(\"Reduced number of features:\", X_train_pca.shape[1])\n"
      ]
    },
    {
      "cell_type": "markdown",
      "metadata": {
        "id": "qXUipwSguYaE"
      },
      "source": [
        "**9. Validate your preprocessing pipeline by training and evaluating a machine\n",
        "learning model, such as the Random Forest model, on the preprocessed data.**"
      ]
    },
    {
      "cell_type": "code",
      "execution_count": null,
      "metadata": {
        "colab": {
          "base_uri": "https://localhost:8080/"
        },
        "id": "6OjfsxvOujwC",
        "outputId": "9147de2b-78f4-4c36-b02a-e0595281a7bc"
      },
      "outputs": [
        {
          "name": "stdout",
          "output_type": "stream",
          "text": [
            "Accuracy of the Random Forest model on the test set: 0.9550561797752809\n"
          ]
        }
      ],
      "source": [
        "from sklearn.ensemble import RandomForestClassifier\n",
        "from sklearn.metrics import accuracy_score\n",
        "from sklearn.preprocessing import StandardScaler\n",
        "\n",
        "df['age'].fillna(df['age'].median(), inplace=True)\n",
        "df['fare'].fillna(df['fare'].median(), inplace=True)\n",
        "\n",
        "if 'embarked' in df.columns:\n",
        "    df.dropna(subset=['embarked'], inplace=True)\n",
        "\n",
        "columns_to_encode = [col for col in ['sex', 'embarked', 'class', 'deck', 'embark_town', 'alone'] if col in df.columns]\n",
        "df = pd.get_dummies(df, columns=columns_to_encode, drop_first=True)\n",
        "\n",
        "columns_to_drop = ['who', 'alive', 'adult_male']\n",
        "df.drop(columns=[col for col in columns_to_drop if col in df.columns], inplace=True)\n",
        "X = df.drop('survived', axis=1) if 'survived' in df.columns else df\n",
        "y = df['survived'] if 'survived' in df.columns else None\n",
        "\n",
        "if y is not None:\n",
        "    X_train, X_test, y_train, y_test = train_test_split(X, y, test_size=0.2, random_state=42)\n",
        "    scaler = StandardScaler()\n",
        "    X_train_scaled = scaler.fit_transform(X_train)\n",
        "    X_test_scaled = scaler.transform(X_test)\n",
        "    pca = PCA(n_components=0.95) \n",
        "    X_train_pca = pca.fit_transform(X_train_scaled)\n",
        "    X_test_pca = pca.transform(X_test_scaled)\n",
        "    clf = RandomForestClassifier(n_estimators=100, random_state=42)\n",
        "    clf.fit(X_train_pca, y_train)\n",
        "    y_pred = clf.predict(X_test_pca)\n",
        "    accuracy = accuracy_score(y_test, y_pred)\n",
        "    print(\"Accuracy of the Random Forest model on the test set:\", accuracy)\n",
        "else:\n",
        "    print(\"Target variable 'survived' not found in DataFrame.\")\n"
      ]
    },
    {
      "cell_type": "markdown",
      "metadata": {
        "id": "YB4a3nnKwIfU"
      },
      "source": [
        "**10. Compare the results to the model trained on the raw data (before feature filtering,\n",
        "transformation, and reduction) to ensure that preprocessing has improved model\n",
        "performance.**"
      ]
    },
    {
      "cell_type": "code",
      "execution_count": 22,
      "metadata": {
        "colab": {
          "base_uri": "https://localhost:8080/"
        },
        "id": "ABFDwegMwJXX",
        "outputId": "ace7cdd1-6016-4bf1-fc6c-83d2c396372d"
      },
      "outputs": [
        {
          "name": "stdout",
          "output_type": "stream",
          "text": [
            "Accuracy on the encoded (raw) data: 1.0\n",
            "Accuracy on the preprocessed data: 0.9719101123595506\n",
            "Improvement due to preprocessing: -2.81%\n"
          ]
        }
      ],
      "source": [
        "\n",
        "df['age'].fillna(df['age'].median(), inplace=True)\n",
        "df['fare'].fillna(df['fare'].median(), inplace=True)\n",
        "if 'embarked' in df.columns:\n",
        "    df.dropna(subset=['embarked'], inplace=True)\n",
        "\n",
        "categorical_cols = df.select_dtypes(include=['object', 'category']).columns.tolist()\n",
        "\n",
        "df_encoded = pd.get_dummies(df, columns=categorical_cols, drop_first=True)\n",
        "\n",
        "X = df_encoded.drop('survived', axis=1)\n",
        "y = df_encoded['survived']\n",
        "\n",
        "X_train, X_test, y_train, y_test = train_test_split(X, y, test_size=0.2, random_state=42)\n",
        "\n",
        "clf_raw = RandomForestClassifier(n_estimators=100, random_state=42)\n",
        "clf_raw.fit(X_train, y_train)\n",
        "\n",
        "y_pred_raw = clf_raw.predict(X_test)\n",
        "accuracy_raw = accuracy_score(y_test, y_pred_raw)\n",
        "print(\"Accuracy on the encoded (raw) data:\", accuracy_raw)\n",
        "\n",
        "scaler = StandardScaler()\n",
        "X_scaled = scaler.fit_transform(X)\n",
        "\n",
        "pca = PCA(n_components=0.95)\n",
        "X_pca = pca.fit_transform(X_scaled)\n",
        "\n",
        "X_train_pca, X_test_pca, y_train_pca, y_test_pca = train_test_split(X_pca, y, test_size=0.2, random_state=42)\n",
        "\n",
        "clf_preprocessed = RandomForestClassifier(n_estimators=100, random_state=42)\n",
        "clf_preprocessed.fit(X_train_pca, y_train_pca)\n",
        "\n",
        "y_pred_preprocessed = clf_preprocessed.predict(X_test_pca)\n",
        "accuracy_preprocessed = accuracy_score(y_test_pca, y_pred_preprocessed)\n",
        "print(\"Accuracy on the preprocessed data:\", accuracy_preprocessed)\n",
        "\n",
        "print(f\"Improvement due to preprocessing: {accuracy_preprocessed - accuracy_raw:.2%}\")\n"
      ]
    },
    {
      "cell_type": "markdown",
      "metadata": {
        "id": "LAuJvuZQxSj4"
      },
      "source": [
        "For learning how well those preconditioning stages as feature scaling, encoding and dimensionality reduction work, we could compare model performance for the trained model on raw data with that trained on preprocessed data."
      ]
    }
  ],
  "metadata": {
    "colab": {
      "provenance": []
    },
    "kernelspec": {
      "display_name": "Python 3",
      "name": "python3"
    },
    "language_info": {
      "codemirror_mode": {
        "name": "ipython",
        "version": 3
      },
      "file_extension": ".py",
      "mimetype": "text/x-python",
      "name": "python",
      "nbconvert_exporter": "python",
      "pygments_lexer": "ipython3",
      "version": "3.11.2"
    }
  },
  "nbformat": 4,
  "nbformat_minor": 0
}
